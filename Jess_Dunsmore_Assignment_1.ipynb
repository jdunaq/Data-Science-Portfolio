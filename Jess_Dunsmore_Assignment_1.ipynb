{
  "nbformat": 4,
  "nbformat_minor": 0,
  "metadata": {
    "colab": {
      "provenance": [],
      "collapsed_sections": [
        "PW5UQvqYYiVo",
        "OjB3RlvRZFOV",
        "sDgVv3ucZUE5",
        "yEvkdLOdZV0_"
      ],
      "authorship_tag": "ABX9TyOiLLWSSccs4udnAf+mKTE+",
      "include_colab_link": true
    },
    "kernelspec": {
      "name": "python3",
      "display_name": "Python 3"
    },
    "language_info": {
      "name": "python"
    }
  },
  "cells": [
    {
      "cell_type": "markdown",
      "metadata": {
        "id": "view-in-github",
        "colab_type": "text"
      },
      "source": [
        "<a href=\"https://colab.research.google.com/github/jdunaq/Data-Science-Portfolio/blob/main/Jess_Dunsmore_Assignment_1.ipynb\" target=\"_parent\"><img src=\"https://colab.research.google.com/assets/colab-badge.svg\" alt=\"Open In Colab\"/></a>"
      ]
    },
    {
      "cell_type": "markdown",
      "source": [
        "###Question 1: Bubble Sort\n"
      ],
      "metadata": {
        "id": "PW5UQvqYYiVo"
      }
    },
    {
      "cell_type": "code",
      "execution_count": null,
      "metadata": {
        "colab": {
          "base_uri": "https://localhost:8080/"
        },
        "id": "fhvw4A3xYZWL",
        "outputId": "41a55db0-0a18-4575-8404-d520f09233d8"
      },
      "outputs": [
        {
          "output_type": "stream",
          "name": "stdout",
          "text": [
            "In ascending order: X_ascend = [1, 2, 5, 6, 7, 9, 11, 17, 19, 21]\n"
          ]
        }
      ],
      "source": [
        "## A script that performs the bubble sort algorithm on an array\n",
        "## so that it's values are arranged in ascending order.\n",
        "\n",
        "# Bubblesort makes array value order ascending by swapping adjacent values\n",
        "def bubbleSort(A):\n",
        "  # Repeat swapping for the number of indices in A\n",
        "  for j in range(len(A)):\n",
        "    # Swap until maximum value taken to final index under consideration\n",
        "    for i in range(len(A)-j-1):\n",
        "      # Swap adjacent elements to make values ascend\n",
        "      if A[i]>A[i+1]:\n",
        "        temp = A[i+1]\n",
        "        A[i+1]=A[i]\n",
        "        A[i]=temp\n",
        "  return print(\"In ascending order: X_ascend =\", A)\n",
        "\n",
        "# Specify array and call function\n",
        "X = [5,7,2,9,6,11,21,17,19,1]\n",
        "bubbleSort(X)\n"
      ]
    },
    {
      "cell_type": "markdown",
      "source": [
        "The above code output is X_ascend = [1,2,5,6,7,9,11,17,19,21]."
      ],
      "metadata": {
        "id": "ITOjO1pc58_H"
      }
    },
    {
      "cell_type": "markdown",
      "source": [
        "###Question 2: Bisection Method"
      ],
      "metadata": {
        "id": "OjB3RlvRZFOV"
      }
    },
    {
      "cell_type": "code",
      "source": [
        "#Performs bisection method on function c, uses guesses init1, init2 and resolves to tolerance\n",
        "def bisection(c,init1,init2,tol):\n",
        "  #Guesses fail to bracket root\n",
        "  if c(init1)*c(init2)>0:\n",
        "    print(\"FAILED TO FIND ROOT\")\n",
        "  #Guesses bracket the root\n",
        "  else:\n",
        "    mid = init1+init2/2\n",
        "    #Loop until function is within tolerance of zero\n",
        "    while abs(c(mid))>tol:\n",
        "      #Calculate bisection point\n",
        "      mid = (init1+init2)/2\n",
        "      #Bisection point is the root\n",
        "      if f(mid)==0:\n",
        "        return mid\n",
        "      #Root is bracketed by init1 and the midpoint\n",
        "      elif c(init1)*c(mid)<0:\n",
        "        init2=mid\n",
        "      #Root is bracketed by init2 and the midpoint\n",
        "      else:\n",
        "        init1=mid\n",
        "  return mid\n",
        "\n",
        "#function of which to find root\n",
        "def f(X):\n",
        "  return 0.04*(X-10)**3-5*(X-50)-20\n",
        "\n",
        "#initial guesses and desired answer tolerance\n",
        "guess1 = 1\n",
        "guess2 = -10\n",
        "tolerance = 0.000001\n",
        "\n",
        "answer = bisection(f,guess1,guess2,tolerance)\n",
        "print(\"A root of the equation is equal to: \",\"%.5f\" %answer, \"to 5 dp\")\n",
        "\n",
        "print(\"\\n As is attested to by f(X) = \",\"%.5f\" %f(answer), \"to 5 dp when X is approximately -9.01668\")\n"
      ],
      "metadata": {
        "colab": {
          "base_uri": "https://localhost:8080/"
        },
        "id": "1aLXrWYTZTs-",
        "outputId": "dd9c671a-791c-4e8c-b533-d126e137b8a6"
      },
      "execution_count": null,
      "outputs": [
        {
          "output_type": "stream",
          "name": "stdout",
          "text": [
            "A root of the equation is equal to:  -9.01668 to 5 dp\n",
            "\n",
            " As is attested to by f(X) =  -0.00000 to 5 dp when X is approximately -9.01668\n"
          ]
        }
      ]
    },
    {
      "cell_type": "markdown",
      "source": [
        "The above code found the root of the equation to be equal to -9.01668 to 5 decimal places."
      ],
      "metadata": {
        "id": "4m85L6iy6R8R"
      }
    },
    {
      "cell_type": "markdown",
      "source": [
        "###Question 3: Euler's Method"
      ],
      "metadata": {
        "id": "sDgVv3ucZUE5"
      }
    },
    {
      "cell_type": "code",
      "source": [
        "import matplotlib.pyplot as plt\n",
        "import math\n",
        "\n",
        "#Performs Euler's method to solve an ODE\n",
        "def euler(dAdt,t,h):\n",
        "  #Initialise array\n",
        "  #Number of elements is equal to number of desired times to evaluate\n",
        "  A = [0]*len(t)\n",
        "  #Calculate function value at each time\n",
        "  for i in range(len(t)-1):\n",
        "    A[i+1] = A[i] + h*dAdt(A[i],t[i])\n",
        "  return A\n",
        "\n",
        "#ODE to evaluate\n",
        "def dAdt(y,t):\n",
        "  diff = 1 - math.exp(-3*t) - 4*y\n",
        "  return diff\n",
        "\n",
        "#Time step\n",
        "h = 0.1\n",
        "#Desired times to evaluate\n",
        "t = [0.1,0.2,0.3,0.4,0.5]\n",
        "\n",
        "#Obtain array of function estimates achieved using Euler's method\n",
        "y_euler = euler(dAdt,t,h)\n",
        "#Format answer to 4 dp\n",
        "y_euler_f = [\"%.4f\" %elem for elem in y_euler]\n",
        "\n",
        "print(\"Values at times: t =\",t,\"\\nare equal to: y =\",y_euler_f,\"\\n\")\n",
        "\n",
        "#Plotting result\n",
        "plt.plot(t,y_euler,color='r',linestyle='-',marker='o')\n",
        "plt.title(\"Euler's Method\")\n",
        "plt.xlabel(\"t\")\n",
        "plt.ylabel(\"y\")\n",
        "plt.grid()\n",
        "plt.show()\n",
        "\n",
        "\n"
      ],
      "metadata": {
        "colab": {
          "base_uri": "https://localhost:8080/",
          "height": 524
        },
        "id": "4zMl2dxBZWyT",
        "outputId": "93b065d9-6be2-4e60-a954-e6188dff9ce0"
      },
      "execution_count": null,
      "outputs": [
        {
          "output_type": "stream",
          "name": "stdout",
          "text": [
            "Values at times: t = [0.1, 0.2, 0.3, 0.4, 0.5] \n",
            "are equal to: y = ['0.0000', '0.0259', '0.0607', '0.0957', '0.1273'] \n",
            "\n"
          ]
        },
        {
          "output_type": "display_data",
          "data": {
            "text/plain": [
              "<Figure size 640x480 with 1 Axes>"
            ],
            "image/png": "[encoded data removed]"
          },
          "metadata": {}
        }
      ]
    },
    {
      "cell_type": "markdown",
      "source": [
        "The above code output found the estimated function values to be Y = [0.0000,0.0259,0.0607,0.0957,0.1273] at the desired time points."
      ],
      "metadata": {
        "id": "Km8Fp2b87Ehw"
      }
    },
    {
      "cell_type": "markdown",
      "source": [
        "###Question 4: Trapezoidal Rule"
      ],
      "metadata": {
        "id": "yEvkdLOdZV0_"
      }
    },
    {
      "cell_type": "code",
      "source": [
        "#Performs the Trapezoidal rule on function (f) between a and b with n sub-intervals\n",
        "def trap(f,a,b,n):\n",
        "  #initialise integral sum\n",
        "  sum = 0\n",
        "  #step-size\n",
        "  h = (b-a)/n\n",
        "  #calculating second largest x-value\n",
        "  mid = a + h\n",
        "  #summing function result at all x-values apart from end points\n",
        "  for i in range(1,n):\n",
        "      sum += f(mid)\n",
        "      mid+=h\n",
        "  #completing sum in the form of the trapezoidal rule\n",
        "  return h*(f(a)/2+sum+f(b)/2)\n",
        "\n",
        "#end points\n",
        "start = -1\n",
        "end = 3\n",
        "#sub-intervals\n",
        "seg = 8\n",
        "\n",
        "#function to integrate\n",
        "def h(X):\n",
        "  return 2**X\n",
        "\n",
        "#Actuation of evaluation\n",
        "int = trap(h,start,end,seg)\n",
        "print(\"The integral of y=2^x can be approximated as I =\",\"%.4f\"%int,\",\\nas accomplished using the Trapezoidal rule.\")\n"
      ],
      "metadata": {
        "colab": {
          "base_uri": "https://localhost:8080/"
        },
        "id": "GgbhxjdvZZo1",
        "outputId": "32184a58-4a36-48e2-9c50-c533ba1e96f7"
      },
      "execution_count": null,
      "outputs": [
        {
          "output_type": "stream",
          "name": "stdout",
          "text": [
            "The integral of y=2^x can be approximated as I = 10.9283 ,\n",
            "as accomplished using the Trapezoidal rule.\n"
          ]
        }
      ]
    },
    {
      "cell_type": "markdown",
      "source": [
        "The code above estimated the integral to be equal to 10.9283 to 4 decimal places."
      ],
      "metadata": {
        "id": "m7vYEiYR7V8o"
      }
    }
  ]
}